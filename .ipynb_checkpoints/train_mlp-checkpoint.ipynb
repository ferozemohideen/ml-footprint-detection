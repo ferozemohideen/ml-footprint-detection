{
 "cells": [
  {
   "cell_type": "code",
   "execution_count": 29,
   "metadata": {},
   "outputs": [],
   "source": [
    "from PIL import Image\n",
    "import numpy as np\n",
    "import seaborn as sns\n",
    "import matplotlib.pyplot as plt\n",
    "from tqdm import trange\n",
    "import os\n",
    "\n",
    "def pool(mask, image, fn, kernel=5, stride=2):\n",
    "    h_prev, w_prev = mask.shape\n",
    "\n",
    "    labels = []\n",
    "    values = []\n",
    "    xs = []\n",
    "    ys = []\n",
    "\n",
    "    curr_y = out_y = 0\n",
    "    # slide the max pooling window vertically across the image\n",
    "    while curr_y + kernel <= h_prev:\n",
    "        curr_x = out_x = 0\n",
    "        # slide the max pooling window horizontally across the image\n",
    "        while curr_x + kernel <= w_prev:\n",
    "            # choose the maximum value within the window at each step and store it to   the output matrix\n",
    "\n",
    "            if fn(mask[curr_y:curr_y + kernel, curr_x:curr_x + kernel]):\n",
    "                labels.append(0)\n",
    "            else:\n",
    "                labels.append(1)\n",
    "\n",
    "            values.append(np.ravel(image[curr_y:curr_y + kernel, curr_x:curr_x + kernel, :]))\n",
    "            ys.append((curr_y+curr_y + kernel)//2)\n",
    "            xs.append((curr_x+curr_x+kernel)//2)\n",
    "            curr_x += stride\n",
    "            out_x += 1\n",
    "        curr_y += stride\n",
    "        out_y += 1\n",
    "\n",
    "    return (np.array(labels), np.array(values), xs, ys)\n",
    "\n",
    "def edge(img):\n",
    "    return np.sum(img) >= 0\n",
    "\n",
    "\n"
   ]
  },
  {
   "cell_type": "code",
   "execution_count": 66,
   "metadata": {},
   "outputs": [
    {
     "name": "stderr",
     "output_type": "stream",
     "text": [
      "100%|██████████| 1/1 [00:01<00:00,  1.19s/it]\n"
     ]
    },
    {
     "name": "stdout",
     "output_type": "stream",
     "text": [
      "986\n"
     ]
    }
   ],
   "source": [
    "file_arr = [filename for filename in os.listdir('images/unmarked/masks/')]\n",
    "\n",
    "for i in trange(1):\n",
    "    name = file_arr[i]\n",
    "    im = Image.open('images/unmarked/masks/'+name)\n",
    "    size = im.getdata().size\n",
    "    img = np.array(im.getdata()).reshape((size[1],size[0],3))\n",
    "    img = img[:,:,0]\n",
    "    img[img>0] = 1\n",
    "    img[img<=0] = -1\n",
    "\n",
    "    im2 = Image.open('images/unmarked/train_cnn/'+name)\n",
    "    img2 = np.array(im2.getdata()).reshape((size[1],size[0],3))\n",
    "    \n",
    "    (labels, values, xs, ys) = pool(img, img2, edge, 50, 20)\n",
    "\n",
    "print(len(labels))"
   ]
  },
  {
   "cell_type": "code",
   "execution_count": 67,
   "metadata": {},
   "outputs": [],
   "source": [
    "from sklearn.neural_network import MLPClassifier\n",
    "from sklearn.neighbors import KNeighborsClassifier\n",
    "clf = MLPClassifier(solver='lbfgs', alpha=1e-5, hidden_layer_sizes=(4,),verbose=True).fit(values,labels)\n",
    "#clf = KNeighborsClassifier(n_neighbors=1).fit(values, labels)"
   ]
  },
  {
   "cell_type": "code",
   "execution_count": 57,
   "metadata": {},
   "outputs": [
    {
     "data": {
      "text/plain": [
       "1.0"
      ]
     },
     "execution_count": 57,
     "metadata": {},
     "output_type": "execute_result"
    }
   ],
   "source": [
    "clf.score(values, labels)"
   ]
  },
  {
   "cell_type": "code",
   "execution_count": 71,
   "metadata": {},
   "outputs": [
    {
     "name": "stderr",
     "output_type": "stream",
     "text": [
      "100%|██████████| 1/1 [00:04<00:00,  4.03s/it]\n"
     ]
    },
    {
     "data": {
      "text/plain": [
       "<matplotlib.collections.PathCollection at 0x230843c5668>"
      ]
     },
     "execution_count": 71,
     "metadata": {},
     "output_type": "execute_result"
    },
    {
     "data": {
      "image/png": "[encoded data removed]",
      "text/plain": [
       "<Figure size 432x288 with 2 Axes>"
      ]
     },
     "metadata": {},
     "output_type": "display_data"
    }
   ],
   "source": [
    "for i in trange(4,5):\n",
    "    name = file_arr[i]\n",
    "    im = Image.open('images/unmarked/masks/'+name)\n",
    "    size = im.getdata().size\n",
    "    img = np.array(im.getdata()).reshape((size[1],size[0],3))\n",
    "    img = img[:,:,0]\n",
    "    img[img>0] = 1\n",
    "    img[img<=0] = -1\n",
    "\n",
    "    im2 = Image.open('images/unmarked/train_cnn/'+name)\n",
    "    img2 = np.array(im2.getdata()).reshape((size[1],size[0],3))\n",
    "    \n",
    "    (labels, values, xs, ys) = pool(img, img2, edge, 50, 20)\n",
    "    \n",
    "scatterlist_x = []\n",
    "scatterlist_y = []\n",
    "predictions = clf.predict(values)\n",
    "for i in range(len(values)):\n",
    "    if predictions[i] == 1:\n",
    "        scatterlist_x.append(xs[i])\n",
    "        scatterlist_y.append(ys[i])\n",
    "sns.heatmap(img)\n",
    "plt.scatter(scatterlist_x, scatterlist_y, c='r')"
   ]
  },
  {
   "cell_type": "code",
   "execution_count": null,
   "metadata": {},
   "outputs": [],
   "source": []
  }
 ],
 "metadata": {
  "kernelspec": {
   "display_name": "Python 3",
   "language": "python",
   "name": "python3"
  },
  "language_info": {
   "codemirror_mode": {
    "name": "ipython",
    "version": 3
   },
   "file_extension": ".py",
   "mimetype": "text/x-python",
   "name": "python",
   "nbconvert_exporter": "python",
   "pygments_lexer": "ipython3",
   "version": "3.6.5"
  }
 },
 "nbformat": 4,
 "nbformat_minor": 2
}
