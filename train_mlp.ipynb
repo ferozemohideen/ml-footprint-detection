{
 "cells": [
  {
   "cell_type": "code",
   "execution_count": 51,
   "metadata": {},
   "outputs": [],
   "source": [
    "from PIL import Image\n",
    "import numpy as np\n",
    "import seaborn as sns\n",
    "import matplotlib.pyplot as plt\n",
    "from tqdm import trange\n",
    "import os\n",
    "from sklearn.neural_network import MLPClassifier\n",
    "from sklearn.preprocessing import normalize\n",
    "\n",
    "def pool(mask, image, fn, kernel=5, stride=2):\n",
    "    h_prev, w_prev = mask.shape\n",
    "\n",
    "    labels = []\n",
    "    values = []\n",
    "    xs = []\n",
    "    ys = []\n",
    "\n",
    "    curr_y = out_y = 0\n",
    "    # slide the max pooling window vertically across the image\n",
    "    while curr_y + kernel <= h_prev:\n",
    "        curr_x = out_x = 0\n",
    "        # slide the max pooling window horizontally across the image\n",
    "        while curr_x + kernel <= w_prev:\n",
    "            # choose the maximum value within the window at each step and store it to   the output matrix\n",
    "\n",
    "            if fn(mask[curr_y:curr_y + kernel, curr_x:curr_x + kernel]):\n",
    "                labels.append(0)\n",
    "            else:\n",
    "                labels.append(1)\n",
    "\n",
    "            values.append(np.ravel(image[curr_y:curr_y + kernel, curr_x:curr_x + kernel, 2]))\n",
    "            ys.append((curr_y+curr_y + kernel)//2)\n",
    "            xs.append((curr_x+curr_x+kernel)//2)\n",
    "            curr_x += stride\n",
    "            out_x += 1\n",
    "        curr_y += stride\n",
    "        out_y += 1\n",
    "\n",
    "    return (labels, values, xs, ys)\n",
    "\n",
    "def edge(img):\n",
    "    return np.sum(img) >= 0\n",
    "\n",
    "\n"
   ]
  },
  {
   "cell_type": "markdown",
   "metadata": {},
   "source": [
    "# Gathering Training Data"
   ]
  },
  {
   "cell_type": "code",
   "execution_count": 124,
   "metadata": {},
   "outputs": [
    {
     "name": "stderr",
     "output_type": "stream",
     "text": [
      "100%|██████████| 1/1 [00:07<00:00,  7.98s/it]\n"
     ]
    }
   ],
   "source": [
    "file_arr = [filename for filename in os.listdir('images/unmarked/masks/')]\n",
    "X = []\n",
    "y = []\n",
    "\n",
    "kernel = 40\n",
    "stride = 1\n",
    "\n",
    "for i in trange(1):\n",
    "    name = file_arr[i]\n",
    "    im = Image.open('images/unmarked/masks/'+name)\n",
    "    size = im.getdata().size\n",
    "    img = np.array(im.getdata()).reshape((size[1],size[0],3))\n",
    "    img = img[:,:,0]\n",
    "    img[img>0] = 1\n",
    "    img[img<=0] = -1\n",
    "\n",
    "    im2 = Image.open('images/unmarked/train_cnn/'+name)\n",
    "    img2 = np.array(im2.getdata()).reshape((size[1],size[0],3))\n",
    "    \n",
    "    (labels, values, xs, ys) = pool(img, img2, edge, kernel, stride)\n",
    "    X += values\n",
    "    y += labels\n"
   ]
  },
  {
   "cell_type": "code",
   "execution_count": 125,
   "metadata": {},
   "outputs": [
    {
     "name": "stdout",
     "output_type": "stream",
     "text": [
      "0.3199594778046565\n"
     ]
    }
   ],
   "source": [
    "print(sum(labels)/len(labels))"
   ]
  },
  {
   "cell_type": "markdown",
   "metadata": {},
   "source": [
    "# Training"
   ]
  },
  {
   "cell_type": "code",
   "execution_count": 128,
   "metadata": {},
   "outputs": [
    {
     "name": "stdout",
     "output_type": "stream",
     "text": [
      "Iteration 1, loss = 0.61957593\n",
      "Iteration 2, loss = 0.60676718\n",
      "Iteration 3, loss = 0.59312886\n",
      "Iteration 4, loss = 0.57491389\n",
      "Iteration 5, loss = 0.55596449\n",
      "Iteration 6, loss = 0.53815179\n",
      "Iteration 7, loss = 0.52678834\n",
      "Iteration 8, loss = 0.51918451\n",
      "Iteration 9, loss = 0.51286081\n",
      "Iteration 10, loss = 0.50764545\n",
      "Iteration 11, loss = 0.50201067\n",
      "Iteration 12, loss = 0.49734149\n",
      "Iteration 13, loss = 0.49209877\n",
      "Iteration 14, loss = 0.48813860\n",
      "Iteration 15, loss = 0.48319977\n",
      "Iteration 16, loss = 0.47925215\n",
      "Iteration 17, loss = 0.47474455\n",
      "Iteration 18, loss = 0.47075376\n",
      "Iteration 19, loss = 0.46696500\n",
      "Iteration 20, loss = 0.46377687\n",
      "Iteration 21, loss = 0.46034294\n",
      "Iteration 22, loss = 0.45853940\n",
      "Iteration 23, loss = 0.45545946\n",
      "Iteration 24, loss = 0.45320374\n",
      "Iteration 25, loss = 0.45159655\n",
      "Iteration 26, loss = 0.45038825\n",
      "Iteration 27, loss = 0.44851809\n",
      "Iteration 28, loss = 0.44747789\n",
      "Iteration 29, loss = 0.44631720\n",
      "Iteration 30, loss = 0.44523178\n",
      "Iteration 31, loss = 0.44463808\n",
      "Iteration 32, loss = 0.44419005\n",
      "Iteration 33, loss = 0.44392829\n",
      "Iteration 34, loss = 0.44283360\n",
      "Iteration 35, loss = 0.44242761\n",
      "Iteration 36, loss = 0.44249901\n",
      "Iteration 37, loss = 0.44272330\n",
      "Iteration 38, loss = 0.44118171\n",
      "Iteration 39, loss = 0.44096626\n",
      "Iteration 40, loss = 0.44109851\n",
      "Iteration 41, loss = 0.44078592\n",
      "Iteration 42, loss = 0.44032628\n",
      "Iteration 43, loss = 0.43952177\n",
      "Iteration 44, loss = 0.44014839\n",
      "Iteration 45, loss = 0.44032657\n",
      "Iteration 46, loss = 0.43951660\n",
      "Training loss did not improve more than tol=0.000100 for two consecutive epochs. Stopping.\n"
     ]
    }
   ],
   "source": [
    "X_norm = normalize(X)\n",
    "clf = MLPClassifier(hidden_layer_sizes=(4,), verbose=1).fit(X_norm,y)"
   ]
  },
  {
   "cell_type": "code",
   "execution_count": 129,
   "metadata": {},
   "outputs": [
    {
     "data": {
      "text/plain": [
       "0.260043788467967"
      ]
     },
     "execution_count": 129,
     "metadata": {},
     "output_type": "execute_result"
    }
   ],
   "source": [
    "sum(clf.predict(X_norm)/len(X_norm))"
   ]
  },
  {
   "cell_type": "code",
   "execution_count": 136,
   "metadata": {},
   "outputs": [
    {
     "name": "stderr",
     "output_type": "stream",
     "text": [
      "100%|██████████| 1/1 [00:06<00:00,  6.78s/it]\n"
     ]
    },
    {
     "data": {
      "text/plain": [
       "Text(0.5,1,'Female Archback 4.jpg Overlaid with Inside/Outside Classifier Predictions')"
      ]
     },
     "execution_count": 136,
     "metadata": {},
     "output_type": "execute_result"
    },
    {
     "data": {
      "image/png": "[encoded data removed]",
      "text/plain": [
       "<Figure size 432x288 with 2 Axes>"
      ]
     },
     "metadata": {},
     "output_type": "display_data"
    }
   ],
   "source": [
    "for i in trange(1):\n",
    "    name = file_arr[i]\n",
    "    im = Image.open('images/unmarked/masks/'+name)\n",
    "    size = im.getdata().size\n",
    "    img = np.array(im.getdata()).reshape((size[1],size[0],3))\n",
    "    img = img[:,:,2]\n",
    "#     img[img>0] = 1\n",
    "#     img[img<=0] = -1\n",
    "\n",
    "    im2 = Image.open('images/unmarked/train_cnn/'+name)\n",
    "    img2 = np.array(im2.getdata()).reshape((size[1],size[0],3))\n",
    "    \n",
    "    (labels, values, xs, ys) = pool(img, img2, edge, kernel, stride)\n",
    "    \n",
    "scatterlist_x = []\n",
    "scatterlist_y = []\n",
    "predictions = clf.predict(X_norm)\n",
    "for i in range(len(values)):\n",
    "    if predictions[i] == 1:\n",
    "        scatterlist_x.append(xs[i])\n",
    "        scatterlist_y.append(ys[i])\n",
    "sns.heatmap(img)\n",
    "plt.plot(scatterlist_x, scatterlist_y, '.r', linestyle='None')\n",
    "plt.title(name +  ' Overlaid with Inside/Outside Classifier Predictions')"
   ]
  },
  {
   "cell_type": "code",
   "execution_count": 133,
   "metadata": {},
   "outputs": [
    {
     "name": "stdout",
     "output_type": "stream",
     "text": [
      "0.09247937506749442\n"
     ]
    }
   ],
   "source": [
    "print(len(scatterlist_x)/len(xs))"
   ]
  },
  {
   "cell_type": "code",
   "execution_count": 23,
   "metadata": {},
   "outputs": [
    {
     "name": "stdout",
     "output_type": "stream",
     "text": [
      "Female Archback 4.jpg\n"
     ]
    }
   ],
   "source": [
    "print(name)"
   ]
  },
  {
   "cell_type": "code",
   "execution_count": 87,
   "metadata": {},
   "outputs": [
    {
     "name": "stdout",
     "output_type": "stream",
     "text": [
      "0.2849935237991903\n"
     ]
    }
   ],
   "source": [
    "arr = np.array(im.getdata())\n",
    "print(sum(arr==[0,0,0])[0]/len(arr))"
   ]
  },
  {
   "cell_type": "code",
   "execution_count": null,
   "metadata": {},
   "outputs": [],
   "source": []
  }
 ],
 "metadata": {
  "kernelspec": {
   "display_name": "Python 3",
   "language": "python",
   "name": "python3"
  },
  "language_info": {
   "codemirror_mode": {
    "name": "ipython",
    "version": 3
   },
   "file_extension": ".py",
   "mimetype": "text/x-python",
   "name": "python",
   "nbconvert_exporter": "python",
   "pygments_lexer": "ipython3",
   "version": "3.6.5"
  }
 },
 "nbformat": 4,
 "nbformat_minor": 2
}
