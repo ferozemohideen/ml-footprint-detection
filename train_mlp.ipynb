{
 "cells": [
  {
   "cell_type": "code",
   "execution_count": 2,
   "metadata": {},
   "outputs": [],
   "source": [
    "from PIL import Image\n",
    "import numpy as np\n",
    "import seaborn as sns\n",
    "import matplotlib.pyplot as plt\n",
    "from tqdm import trange\n",
    "import os\n",
    "from sklearn.neural_network import MLPClassifier\n",
    "from sklearn.preprocessing import normalize\n",
    "\n",
    "def pool(mask, image, fn, kernel=5, stride=2):\n",
    "    h_prev, w_prev = mask.shape\n",
    "\n",
    "    labels = []\n",
    "    values = []\n",
    "    xs = []\n",
    "    ys = []\n",
    "\n",
    "    curr_y = out_y = 0\n",
    "    # slide the max pooling window vertically across the image\n",
    "    while curr_y + kernel <= h_prev:\n",
    "        curr_x = out_x = 0\n",
    "        # slide the max pooling window horizontally across the image\n",
    "        while curr_x + kernel <= w_prev:\n",
    "            # choose the maximum value within the window at each step and store it to   the output matrix\n",
    "\n",
    "            if fn(mask[curr_y:curr_y + kernel, curr_x:curr_x + kernel]):\n",
    "                labels.append(0)\n",
    "            else:\n",
    "                labels.append(1)\n",
    "\n",
    "            values.append(np.ravel(image[curr_y:curr_y + kernel, curr_x:curr_x + kernel, 2]))\n",
    "            ys.append((curr_y+curr_y + kernel)//2)\n",
    "            xs.append((curr_x+curr_x+kernel)//2)\n",
    "            curr_x += stride\n",
    "            out_x += 1\n",
    "        curr_y += stride\n",
    "        out_y += 1\n",
    "\n",
    "    return (labels, values, xs, ys)\n",
    "\n",
    "def edge(img):\n",
    "    return np.sum(img) >= 0\n",
    "\n",
    "\n"
   ]
  },
  {
   "cell_type": "markdown",
   "metadata": {},
   "source": [
    "# Gathering Training Data"
   ]
  },
  {
   "cell_type": "code",
   "execution_count": 3,
   "metadata": {},
   "outputs": [
    {
     "name": "stderr",
     "output_type": "stream",
     "text": [
      "100%|██████████| 1/1 [00:07<00:00,  7.14s/it]\n"
     ]
    }
   ],
   "source": [
    "file_arr = [filename for filename in os.listdir('images/unmarked/masks/')]\n",
    "X = []\n",
    "y = []\n",
    "\n",
    "kernel = 40\n",
    "stride = 1\n",
    "\n",
    "for i in trange(1):\n",
    "    name = file_arr[i]\n",
    "    im = Image.open('images/unmarked/masks/'+name)\n",
    "    size = im.getdata().size\n",
    "    img = np.array(im.getdata()).reshape((size[1],size[0],3))\n",
    "    img = img[:,:,0]\n",
    "    img[img>0] = 1\n",
    "    img[img<=0] = -1\n",
    "    mask = img\n",
    "\n",
    "    im2 = Image.open('images/unmarked/filter/'+name)\n",
    "    img2 = np.array(im2.getdata()).reshape((size[1],size[0],3))\n",
    "    image = img2\n",
    "    \n",
    "    (labels, values, xs, ys) = pool(mask, image, edge, kernel, stride)\n",
    "    X += values\n",
    "    y += labels\n"
   ]
  },
  {
   "cell_type": "code",
   "execution_count": 4,
   "metadata": {},
   "outputs": [
    {
     "name": "stdout",
     "output_type": "stream",
     "text": [
      "0.3199594778046565\n"
     ]
    }
   ],
   "source": [
    "print(sum(labels)/len(labels))"
   ]
  },
  {
   "cell_type": "markdown",
   "metadata": {},
   "source": [
    "# Training"
   ]
  },
  {
   "cell_type": "code",
   "execution_count": 5,
   "metadata": {},
   "outputs": [
    {
     "name": "stdout",
     "output_type": "stream",
     "text": [
      "Iteration 1, loss = 0.61141613\n",
      "Iteration 2, loss = 0.59912567\n",
      "Iteration 3, loss = 0.59408378\n",
      "Iteration 4, loss = 0.58894240\n",
      "Iteration 5, loss = 0.58323140\n",
      "Iteration 6, loss = 0.57650080\n",
      "Iteration 7, loss = 0.56857338\n",
      "Iteration 8, loss = 0.55820999\n",
      "Iteration 9, loss = 0.54967813\n",
      "Iteration 10, loss = 0.54174160\n",
      "Iteration 11, loss = 0.53418625\n",
      "Iteration 12, loss = 0.52639263\n",
      "Iteration 13, loss = 0.51763117\n",
      "Iteration 14, loss = 0.50932740\n",
      "Iteration 15, loss = 0.50301918\n",
      "Iteration 16, loss = 0.49792997\n",
      "Iteration 17, loss = 0.49509120\n",
      "Iteration 18, loss = 0.49214377\n",
      "Iteration 19, loss = 0.49018268\n",
      "Iteration 20, loss = 0.48845807\n",
      "Iteration 21, loss = 0.48692628\n",
      "Iteration 22, loss = 0.48600655\n",
      "Iteration 23, loss = 0.48411538\n",
      "Iteration 24, loss = 0.48285852\n",
      "Iteration 25, loss = 0.48139258\n",
      "Iteration 26, loss = 0.48081009\n",
      "Iteration 27, loss = 0.47926855\n",
      "Iteration 28, loss = 0.47784686\n",
      "Iteration 29, loss = 0.47683488\n",
      "Iteration 30, loss = 0.47584875\n",
      "Iteration 31, loss = 0.47466798\n",
      "Iteration 32, loss = 0.47420621\n",
      "Iteration 33, loss = 0.47261115\n",
      "Iteration 34, loss = 0.47175261\n",
      "Iteration 35, loss = 0.47036252\n",
      "Iteration 36, loss = 0.46926107\n",
      "Iteration 37, loss = 0.46888177\n",
      "Iteration 38, loss = 0.46804685\n",
      "Iteration 39, loss = 0.46741466\n",
      "Iteration 40, loss = 0.46587427\n",
      "Iteration 41, loss = 0.46492742\n",
      "Iteration 42, loss = 0.46412541\n",
      "Iteration 43, loss = 0.46418783\n",
      "Iteration 44, loss = 0.46314611\n",
      "Iteration 45, loss = 0.46202498\n",
      "Iteration 46, loss = 0.46185988\n",
      "Iteration 47, loss = 0.46073444\n",
      "Iteration 48, loss = 0.46082195\n",
      "Iteration 49, loss = 0.45948108\n",
      "Iteration 50, loss = 0.45952610\n",
      "Iteration 51, loss = 0.45865107\n",
      "Iteration 52, loss = 0.45799507\n",
      "Iteration 53, loss = 0.45801796\n",
      "Iteration 54, loss = 0.45709240\n",
      "Iteration 55, loss = 0.45660661\n",
      "Iteration 56, loss = 0.45634489\n",
      "Iteration 57, loss = 0.45580770\n",
      "Iteration 58, loss = 0.45572487\n",
      "Iteration 59, loss = 0.45525554\n",
      "Iteration 60, loss = 0.45481305\n",
      "Iteration 61, loss = 0.45423255\n",
      "Iteration 62, loss = 0.45408135\n",
      "Iteration 63, loss = 0.45365285\n",
      "Iteration 64, loss = 0.45325385\n",
      "Iteration 65, loss = 0.45317301\n",
      "Iteration 66, loss = 0.45283537\n",
      "Iteration 67, loss = 0.45264913\n",
      "Iteration 68, loss = 0.45171276\n",
      "Iteration 69, loss = 0.45180474\n",
      "Iteration 70, loss = 0.45183344\n",
      "Iteration 71, loss = 0.45151265\n",
      "Iteration 72, loss = 0.45145634\n",
      "Iteration 73, loss = 0.45008804\n",
      "Iteration 74, loss = 0.45047723\n",
      "Iteration 75, loss = 0.45028617\n",
      "Iteration 76, loss = 0.45057128\n",
      "Training loss did not improve more than tol=0.000100 for two consecutive epochs. Stopping.\n"
     ]
    }
   ],
   "source": [
    "X_norm = normalize(X)\n",
    "clf = MLPClassifier(hidden_layer_sizes=(4,), verbose=1).fit(X_norm,y)"
   ]
  },
  {
   "cell_type": "code",
   "execution_count": 6,
   "metadata": {},
   "outputs": [
    {
     "data": {
      "text/plain": [
       "0.27724275550905136"
      ]
     },
     "execution_count": 6,
     "metadata": {},
     "output_type": "execute_result"
    }
   ],
   "source": [
    "sum(clf.predict(X_norm)/len(X_norm))"
   ]
  },
  {
   "cell_type": "code",
   "execution_count": 11,
   "metadata": {},
   "outputs": [
    {
     "name": "stderr",
     "output_type": "stream",
     "text": [
      "  0%|          | 0/1 [00:00<?, ?it/s]\n"
     ]
    },
    {
     "ename": "MemoryError",
     "evalue": "",
     "output_type": "error",
     "traceback": [
      "\u001b[1;31m---------------------------------------------------------------------------\u001b[0m",
      "\u001b[1;31mMemoryError\u001b[0m                               Traceback (most recent call last)",
      "\u001b[1;32m<ipython-input-11-47771a3418b2>\u001b[0m in \u001b[0;36m<module>\u001b[1;34m()\u001b[0m\n\u001b[0;32m     12\u001b[0m     \u001b[0mimg2\u001b[0m \u001b[1;33m=\u001b[0m \u001b[0mnp\u001b[0m\u001b[1;33m.\u001b[0m\u001b[0marray\u001b[0m\u001b[1;33m(\u001b[0m\u001b[0mim2\u001b[0m\u001b[1;33m.\u001b[0m\u001b[0mgetdata\u001b[0m\u001b[1;33m(\u001b[0m\u001b[1;33m)\u001b[0m\u001b[1;33m)\u001b[0m\u001b[1;33m.\u001b[0m\u001b[0mreshape\u001b[0m\u001b[1;33m(\u001b[0m\u001b[1;33m(\u001b[0m\u001b[0msize\u001b[0m\u001b[1;33m[\u001b[0m\u001b[1;36m1\u001b[0m\u001b[1;33m]\u001b[0m\u001b[1;33m,\u001b[0m\u001b[0msize\u001b[0m\u001b[1;33m[\u001b[0m\u001b[1;36m0\u001b[0m\u001b[1;33m]\u001b[0m\u001b[1;33m,\u001b[0m\u001b[1;36m3\u001b[0m\u001b[1;33m)\u001b[0m\u001b[1;33m)\u001b[0m\u001b[1;33m\u001b[0m\u001b[0m\n\u001b[0;32m     13\u001b[0m \u001b[1;33m\u001b[0m\u001b[0m\n\u001b[1;32m---> 14\u001b[1;33m     \u001b[1;33m(\u001b[0m\u001b[0mlabels\u001b[0m\u001b[1;33m,\u001b[0m \u001b[0mvalues\u001b[0m\u001b[1;33m,\u001b[0m \u001b[0mxs\u001b[0m\u001b[1;33m,\u001b[0m \u001b[0mys\u001b[0m\u001b[1;33m)\u001b[0m \u001b[1;33m=\u001b[0m \u001b[0mpool\u001b[0m\u001b[1;33m(\u001b[0m\u001b[0mimg\u001b[0m\u001b[1;33m,\u001b[0m \u001b[0mimg2\u001b[0m\u001b[1;33m,\u001b[0m \u001b[0medge\u001b[0m\u001b[1;33m,\u001b[0m \u001b[0mkernel\u001b[0m\u001b[1;33m,\u001b[0m \u001b[0mstride\u001b[0m\u001b[1;33m)\u001b[0m\u001b[1;33m\u001b[0m\u001b[0m\n\u001b[0m\u001b[0;32m     15\u001b[0m     \u001b[0mX_new\u001b[0m \u001b[1;33m+=\u001b[0m \u001b[0mvalues\u001b[0m\u001b[1;33m\u001b[0m\u001b[0m\n\u001b[0;32m     16\u001b[0m \u001b[1;33m\u001b[0m\u001b[0m\n",
      "\u001b[1;32m<ipython-input-2-628c3a5b5c2c>\u001b[0m in \u001b[0;36mpool\u001b[1;34m(mask, image, fn, kernel, stride)\u001b[0m\n\u001b[0;32m     24\u001b[0m             \u001b[1;31m# choose the maximum value within the window at each step and store it to   the output matrix\u001b[0m\u001b[1;33m\u001b[0m\u001b[1;33m\u001b[0m\u001b[0m\n\u001b[0;32m     25\u001b[0m \u001b[1;33m\u001b[0m\u001b[0m\n\u001b[1;32m---> 26\u001b[1;33m             \u001b[1;32mif\u001b[0m \u001b[0mfn\u001b[0m\u001b[1;33m(\u001b[0m\u001b[0mmask\u001b[0m\u001b[1;33m[\u001b[0m\u001b[0mcurr_y\u001b[0m\u001b[1;33m:\u001b[0m\u001b[0mcurr_y\u001b[0m \u001b[1;33m+\u001b[0m \u001b[0mkernel\u001b[0m\u001b[1;33m,\u001b[0m \u001b[0mcurr_x\u001b[0m\u001b[1;33m:\u001b[0m\u001b[0mcurr_x\u001b[0m \u001b[1;33m+\u001b[0m \u001b[0mkernel\u001b[0m\u001b[1;33m]\u001b[0m\u001b[1;33m)\u001b[0m\u001b[1;33m:\u001b[0m\u001b[1;33m\u001b[0m\u001b[0m\n\u001b[0m\u001b[0;32m     27\u001b[0m                 \u001b[0mlabels\u001b[0m\u001b[1;33m.\u001b[0m\u001b[0mappend\u001b[0m\u001b[1;33m(\u001b[0m\u001b[1;36m0\u001b[0m\u001b[1;33m)\u001b[0m\u001b[1;33m\u001b[0m\u001b[0m\n\u001b[0;32m     28\u001b[0m             \u001b[1;32melse\u001b[0m\u001b[1;33m:\u001b[0m\u001b[1;33m\u001b[0m\u001b[0m\n",
      "\u001b[1;32m<ipython-input-2-628c3a5b5c2c>\u001b[0m in \u001b[0;36medge\u001b[1;34m(img)\u001b[0m\n\u001b[0;32m     40\u001b[0m \u001b[1;33m\u001b[0m\u001b[0m\n\u001b[0;32m     41\u001b[0m \u001b[1;32mdef\u001b[0m \u001b[0medge\u001b[0m\u001b[1;33m(\u001b[0m\u001b[0mimg\u001b[0m\u001b[1;33m)\u001b[0m\u001b[1;33m:\u001b[0m\u001b[1;33m\u001b[0m\u001b[0m\n\u001b[1;32m---> 42\u001b[1;33m     \u001b[1;32mreturn\u001b[0m \u001b[0mnp\u001b[0m\u001b[1;33m.\u001b[0m\u001b[0msum\u001b[0m\u001b[1;33m(\u001b[0m\u001b[0mimg\u001b[0m\u001b[1;33m)\u001b[0m \u001b[1;33m>=\u001b[0m \u001b[1;36m0\u001b[0m\u001b[1;33m\u001b[0m\u001b[0m\n\u001b[0m\u001b[0;32m     43\u001b[0m \u001b[1;33m\u001b[0m\u001b[0m\n",
      "\u001b[1;32m~\\Anaconda3\\lib\\site-packages\\numpy\\core\\fromnumeric.py\u001b[0m in \u001b[0;36msum\u001b[1;34m(a, axis, dtype, out, keepdims)\u001b[0m\n\u001b[0;32m   1880\u001b[0m             \u001b[1;32mreturn\u001b[0m \u001b[0msum\u001b[0m\u001b[1;33m(\u001b[0m\u001b[0maxis\u001b[0m\u001b[1;33m=\u001b[0m\u001b[0maxis\u001b[0m\u001b[1;33m,\u001b[0m \u001b[0mdtype\u001b[0m\u001b[1;33m=\u001b[0m\u001b[0mdtype\u001b[0m\u001b[1;33m,\u001b[0m \u001b[0mout\u001b[0m\u001b[1;33m=\u001b[0m\u001b[0mout\u001b[0m\u001b[1;33m,\u001b[0m \u001b[1;33m**\u001b[0m\u001b[0mkwargs\u001b[0m\u001b[1;33m)\u001b[0m\u001b[1;33m\u001b[0m\u001b[0m\n\u001b[0;32m   1881\u001b[0m     return _methods._sum(a, axis=axis, dtype=dtype,\n\u001b[1;32m-> 1882\u001b[1;33m                          out=out, **kwargs)\n\u001b[0m\u001b[0;32m   1883\u001b[0m \u001b[1;33m\u001b[0m\u001b[0m\n\u001b[0;32m   1884\u001b[0m \u001b[1;33m\u001b[0m\u001b[0m\n",
      "\u001b[1;32m~\\Anaconda3\\lib\\site-packages\\numpy\\core\\_methods.py\u001b[0m in \u001b[0;36m_sum\u001b[1;34m(a, axis, dtype, out, keepdims)\u001b[0m\n\u001b[0;32m     30\u001b[0m \u001b[1;33m\u001b[0m\u001b[0m\n\u001b[0;32m     31\u001b[0m \u001b[1;32mdef\u001b[0m \u001b[0m_sum\u001b[0m\u001b[1;33m(\u001b[0m\u001b[0ma\u001b[0m\u001b[1;33m,\u001b[0m \u001b[0maxis\u001b[0m\u001b[1;33m=\u001b[0m\u001b[1;32mNone\u001b[0m\u001b[1;33m,\u001b[0m \u001b[0mdtype\u001b[0m\u001b[1;33m=\u001b[0m\u001b[1;32mNone\u001b[0m\u001b[1;33m,\u001b[0m \u001b[0mout\u001b[0m\u001b[1;33m=\u001b[0m\u001b[1;32mNone\u001b[0m\u001b[1;33m,\u001b[0m \u001b[0mkeepdims\u001b[0m\u001b[1;33m=\u001b[0m\u001b[1;32mFalse\u001b[0m\u001b[1;33m)\u001b[0m\u001b[1;33m:\u001b[0m\u001b[1;33m\u001b[0m\u001b[0m\n\u001b[1;32m---> 32\u001b[1;33m     \u001b[1;32mreturn\u001b[0m \u001b[0mumr_sum\u001b[0m\u001b[1;33m(\u001b[0m\u001b[0ma\u001b[0m\u001b[1;33m,\u001b[0m \u001b[0maxis\u001b[0m\u001b[1;33m,\u001b[0m \u001b[0mdtype\u001b[0m\u001b[1;33m,\u001b[0m \u001b[0mout\u001b[0m\u001b[1;33m,\u001b[0m \u001b[0mkeepdims\u001b[0m\u001b[1;33m)\u001b[0m\u001b[1;33m\u001b[0m\u001b[0m\n\u001b[0m\u001b[0;32m     33\u001b[0m \u001b[1;33m\u001b[0m\u001b[0m\n\u001b[0;32m     34\u001b[0m \u001b[1;32mdef\u001b[0m \u001b[0m_prod\u001b[0m\u001b[1;33m(\u001b[0m\u001b[0ma\u001b[0m\u001b[1;33m,\u001b[0m \u001b[0maxis\u001b[0m\u001b[1;33m=\u001b[0m\u001b[1;32mNone\u001b[0m\u001b[1;33m,\u001b[0m \u001b[0mdtype\u001b[0m\u001b[1;33m=\u001b[0m\u001b[1;32mNone\u001b[0m\u001b[1;33m,\u001b[0m \u001b[0mout\u001b[0m\u001b[1;33m=\u001b[0m\u001b[1;32mNone\u001b[0m\u001b[1;33m,\u001b[0m \u001b[0mkeepdims\u001b[0m\u001b[1;33m=\u001b[0m\u001b[1;32mFalse\u001b[0m\u001b[1;33m)\u001b[0m\u001b[1;33m:\u001b[0m\u001b[1;33m\u001b[0m\u001b[0m\n",
      "\u001b[1;31mMemoryError\u001b[0m: "
     ]
    }
   ],
   "source": [
    "X_new = []\n",
    "for i in trange(1):\n",
    "    name = file_arr[i]\n",
    "    im = Image.open('images/unmarked/masks/'+name)\n",
    "    size = im.getdata().size\n",
    "    img = np.array(im.getdata()).reshape((size[1],size[0],3))\n",
    "    img = img[:,:,2]\n",
    "#     img[img>0] = 1\n",
    "#     img[img<=0] = -1\n",
    "\n",
    "    im2 = Image.open('images/unmarked/train_cnn/'+name)\n",
    "    img2 = np.array(im2.getdata()).reshape((size[1],size[0],3))\n",
    "    \n",
    "    (labels, values, xs, ys) = pool(img, img2, edge, kernel, stride)\n",
    "    X_new += values\n",
    "    \n",
    "scatterlist_x = []\n",
    "scatterlist_y = []\n",
    "predictions = clf.predict(X_norm)\n",
    "for i in range(len(values)):\n",
    "    if predictions[i] == 1:\n",
    "        scatterlist_x.append(xs[i])\n",
    "        scatterlist_y.append(ys[i])\n",
    "sns.heatmap(img)\n",
    "plt.plot(scatterlist_x, scatterlist_y, '.r', linestyle='None')\n",
    "plt.title(name +  ' Overlaid with Inside/Outside Classifier Predictions')"
   ]
  },
  {
   "cell_type": "code",
   "execution_count": 133,
   "metadata": {},
   "outputs": [
    {
     "name": "stdout",
     "output_type": "stream",
     "text": [
      "0.09247937506749442\n"
     ]
    }
   ],
   "source": [
    "print(len(scatterlist_x)/len(xs))"
   ]
  },
  {
   "cell_type": "code",
   "execution_count": 23,
   "metadata": {},
   "outputs": [
    {
     "name": "stdout",
     "output_type": "stream",
     "text": [
      "Female Archback 4.jpg\n"
     ]
    }
   ],
   "source": [
    "print(name)"
   ]
  },
  {
   "cell_type": "code",
   "execution_count": 87,
   "metadata": {},
   "outputs": [
    {
     "name": "stdout",
     "output_type": "stream",
     "text": [
      "0.2849935237991903\n"
     ]
    }
   ],
   "source": [
    "arr = np.array(im.getdata())\n",
    "print(sum(arr==[0,0,0])[0]/len(arr))"
   ]
  },
  {
   "cell_type": "code",
   "execution_count": null,
   "metadata": {},
   "outputs": [],
   "source": []
  }
 ],
 "metadata": {
  "kernelspec": {
   "display_name": "Python 3",
   "language": "python",
   "name": "python3"
  },
  "language_info": {
   "codemirror_mode": {
    "name": "ipython",
    "version": 3
   },
   "file_extension": ".py",
   "mimetype": "text/x-python",
   "name": "python",
   "nbconvert_exporter": "python",
   "pygments_lexer": "ipython3",
   "version": "3.6.5"
  }
 },
 "nbformat": 4,
 "nbformat_minor": 2
}
